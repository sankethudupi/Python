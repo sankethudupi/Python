{
 "cells": [
  {
   "cell_type": "markdown",
   "metadata": {},
   "source": [
    "### A. Text Files and Lines"
   ]
  },
  {
   "cell_type": "markdown",
   "metadata": {},
   "source": [
    "Recall that a Python string can be thought of as a sequence of characters. In a similar way, a text file can be thought of as a sequence of lines"
   ]
  },
  {
   "cell_type": "markdown",
   "metadata": {},
   "source": [
    "For example, consider the following sample of a text file\n",
    "\n",
    "    From stephen.marquard@uct.ac.za Sat Jan 5 09:14:16 2008\n",
    "    Return-Path: <postmaster@collab.sakaiproject.org>\n",
    "    Date: Sat, 5 Jan 2008 09:12:18 -0500\n",
    "    To: source@collab.sakaiproject.org\n",
    "    From: stephen.marquard@uct.ac.za\n",
    "    Subject: [sakai] svn commit: r39772 - content/branches/\n",
    "    Details: http://source.sakaiproject.org/viewsvn/?view=rev&rev=39772"
   ]
  },
  {
   "cell_type": "markdown",
   "metadata": {},
   "source": [
    "These files are in a standard format for a file containing multiple mail messages. The lines which start with “From ” separate the messages and the lines which start with “From:” are part of the messages. For more information about the mbox format, see en.wikipedia.org/wiki/Mbox."
   ]
  },
  {
   "cell_type": "markdown",
   "metadata": {},
   "source": [
    "To break the file into lines, there is a special character that represents the “end of the line” called the newline character."
   ]
  },
  {
   "cell_type": "markdown",
   "metadata": {},
   "source": [
    "### B. Newline"
   ]
  },
  {
   "cell_type": "markdown",
   "metadata": {},
   "source": [
    "In Python, the newline character is represented by \\n"
   ]
  },
  {
   "cell_type": "markdown",
   "metadata": {},
   "source": [
    "*(Even though this looks like two characters, it is actually a single character.)*"
   ]
  },
  {
   "cell_type": "code",
   "execution_count": null,
   "metadata": {},
   "outputs": [],
   "source": [
    "mystr = \"A\\nB\"\n",
    "print(mystr)"
   ]
  },
  {
   "cell_type": "code",
   "execution_count": null,
   "metadata": {},
   "outputs": [],
   "source": [
    "len(mystr)"
   ]
  },
  {
   "cell_type": "markdown",
   "metadata": {},
   "source": [
    "**Note:** \n",
    "*So when we look at the lines in a file, we need to imagine that there is a special invisible character called the newline at the end of each line that marks the end of the line.*"
   ]
  },
  {
   "cell_type": "markdown",
   "metadata": {},
   "source": [
    "### C. Reading Files"
   ]
  },
  {
   "cell_type": "code",
   "execution_count": 1,
   "metadata": {},
   "outputs": [],
   "source": [
    "import os"
   ]
  },
  {
   "cell_type": "code",
   "execution_count": null,
   "metadata": {},
   "outputs": [],
   "source": [
    "pwd"
   ]
  },
  {
   "cell_type": "code",
   "execution_count": 2,
   "metadata": {},
   "outputs": [],
   "source": [
    "os.chdir(r'/Users/muruganyuvaraaj/Python notebooks')"
   ]
  },
  {
   "cell_type": "code",
   "execution_count": 3,
   "metadata": {},
   "outputs": [],
   "source": [
    "#File handle\n",
    "fhand = open(\"mbox-short.txt\")"
   ]
  },
  {
   "cell_type": "code",
   "execution_count": null,
   "metadata": {},
   "outputs": [],
   "source": [
    "fhand = open(\"mbox-short.txt\")"
   ]
  },
  {
   "cell_type": "markdown",
   "metadata": {},
   "source": [
    "**Note:**\n",
    "*File handle does not contain the data for the file*"
   ]
  },
  {
   "cell_type": "markdown",
   "metadata": {},
   "source": [
    "**1. Reading the data using a loop**\n",
    "\n",
    "We can easily construct a for loop to read through and count each of the lines in a file:"
   ]
  },
  {
   "cell_type": "code",
   "execution_count": null,
   "metadata": {},
   "outputs": [],
   "source": [
    "for line in fhand:\n",
    "    print(line, end='')\n",
    "fhand.seek(0) # <- command places the cursor in index 0 on the file. if the file is run within the program, seek is not required. "
   ]
  },
  {
   "cell_type": "code",
   "execution_count": null,
   "metadata": {},
   "outputs": [],
   "source": [
    "fhand = open(\"mbox-short.txt\")\n",
    "\n",
    "for line in fhand:\n",
    "    line = line.strip()\n",
    "    print(line)"
   ]
  },
  {
   "cell_type": "code",
   "execution_count": null,
   "metadata": {},
   "outputs": [],
   "source": [
    "#Reading first 10 lines:\n",
    "fhand = open(\"mbox-short.txt\")\n",
    "count = 0\n",
    "\n",
    "for line in fhand:\n",
    "    line = line.strip()\n",
    "    print(line)\n",
    "    count += 1\n",
    "    if count == 10:\n",
    "        break"
   ]
  },
  {
   "cell_type": "code",
   "execution_count": null,
   "metadata": {},
   "outputs": [],
   "source": [
    "#Reading first 10 lines:\n",
    "fhand = open(\"mbox-short.txt\")\n",
    "count = 0\n",
    "\n",
    "for line in fhand:\n",
    "    count += 1\n",
    "    if count <= 10:\n",
    "        line = line.strip()\n",
    "        print(line)"
   ]
  },
  {
   "cell_type": "code",
   "execution_count": null,
   "metadata": {},
   "outputs": [],
   "source": [
    "#Print the lines between the 10th line and the 20th line\n",
    "fhand = open(\"mbox-short.txt\")\n",
    "count = 0\n",
    "\n",
    "for line in fhand:\n",
    "    count += 1\n",
    "    if 10 < count <= 20:\n",
    "        line = line.strip()\n",
    "        print(str(count),'.',line)\n",
    "        "
   ]
  },
  {
   "cell_type": "code",
   "execution_count": null,
   "metadata": {},
   "outputs": [],
   "source": [
    "#Total number of lines present in the file:\n",
    "fhand = open(\"mbox-short.txt\")\n",
    "count = 0\n",
    "\n",
    "for line in fhand:\n",
    "    count += 1\n",
    "    \n",
    "print(count)"
   ]
  },
  {
   "cell_type": "code",
   "execution_count": null,
   "metadata": {},
   "outputs": [],
   "source": [
    "fhand = open(\"mbox-short.txt\")\n",
    "count = 0\n",
    "index = [1,3,9]\n",
    "print(len(index))\n",
    "print(index[len(index)-1])\n",
    "print(max(index))"
   ]
  },
  {
   "cell_type": "code",
   "execution_count": null,
   "metadata": {},
   "outputs": [],
   "source": [
    "fhand = open(\"mbox-short.txt\")\n",
    "count = 0\n",
    "index = [1,3,9]\n",
    "for line in fhand:\n",
    "    count += 1\n",
    "    if count not in index:\n",
    "        continue\n",
    "    else:\n",
    "        line =line.strip()\n",
    "        print(line, end='\\n')\n",
    "    if count > max(index):\n",
    "        break"
   ]
  },
  {
   "cell_type": "code",
   "execution_count": null,
   "metadata": {},
   "outputs": [],
   "source": [
    "fhand = open(\"mbox-short.txt\")\n",
    "count = 0\n",
    "index = [1,3,9]\n",
    "for line in fhand:\n",
    "    count += 1\n",
    "    if count in index:\n",
    "        line = line.rstrip()\n",
    "        print(line)\n",
    "    if count > index[len(index)-1]:\n",
    "        break"
   ]
  },
  {
   "cell_type": "code",
   "execution_count": null,
   "metadata": {},
   "outputs": [],
   "source": []
  },
  {
   "cell_type": "code",
   "execution_count": null,
   "metadata": {},
   "outputs": [],
   "source": [
    "fhand = open(\"mbox-short.txt\")\n",
    "index = [16,9,3,1]\n",
    "count = 0\n",
    "d = {}\n",
    "for line in fhand:\n",
    "    count += 1\n",
    "    if count in index:\n",
    "        line = line.rstrip()\n",
    "        d[count] = line\n",
    "    if count > max(index):\n",
    "        break\n",
    "print(d)       \n",
    "for i in index:\n",
    "    print(d[i])"
   ]
  },
  {
   "cell_type": "code",
   "execution_count": null,
   "metadata": {},
   "outputs": [],
   "source": [
    "fhand = open('mbox-short.txt')\n",
    "index = [16,9,3,1]\n",
    "count = 0\n",
    "d = {}\n",
    "print(type(d))\n",
    "for i in fhand:\n",
    "    count += 1\n",
    "    if count in index:\n",
    "        i = i.strip()\n",
    "        d[count] = i\n",
    "    if count > max(index):\n",
    "        break\n",
    "for i in index:\n",
    "    print(d[i])"
   ]
  },
  {
   "cell_type": "code",
   "execution_count": null,
   "metadata": {
    "scrolled": true
   },
   "outputs": [],
   "source": [
    "fhand = open(\"mbox-short.txt\")\n",
    "count = 0\n",
    "index = [1,3,5]\n",
    "for i in fhand:\n",
    "    count += 1\n",
    "    if count not in index:\n",
    "        continue\n",
    "    if count in index:\n",
    "        print(i)\n",
    "    if count > max(index):\n",
    "        break"
   ]
  },
  {
   "cell_type": "code",
   "execution_count": null,
   "metadata": {},
   "outputs": [],
   "source": [
    "\n"
   ]
  },
  {
   "cell_type": "markdown",
   "metadata": {},
   "source": [
    "**2. Reading data using the read method for files**"
   ]
  },
  {
   "cell_type": "code",
   "execution_count": null,
   "metadata": {},
   "outputs": [],
   "source": [
    "#Reading data using read() method:\n",
    "fhand = open(\"mbox-short.txt\")\n",
    "\n",
    "data = fhand.read()"
   ]
  },
  {
   "cell_type": "code",
   "execution_count": null,
   "metadata": {},
   "outputs": [],
   "source": [
    "#length of the data\n",
    "len(data)"
   ]
  },
  {
   "cell_type": "code",
   "execution_count": null,
   "metadata": {},
   "outputs": [],
   "source": [
    "#Let's see how the data is read\n",
    "data[3:50]"
   ]
  },
  {
   "cell_type": "markdown",
   "metadata": {},
   "source": [
    "**Disadvantage:**\n",
    "\n",
    "Remember that this form of the open function should only be used if the file data will fit comfortably in the main memory of your computer. If the file is too large to fit in main memory, you should write your program to read the file in chunks using a for or while loop."
   ]
  },
  {
   "cell_type": "markdown",
   "metadata": {},
   "source": [
    "### D. Letting the user choose the file name"
   ]
  },
  {
   "cell_type": "code",
   "execution_count": null,
   "metadata": {},
   "outputs": [],
   "source": [
    "import os\n",
    "os.chdir(r'/Users/muruganyuvaraaj/Python notebooks')\n",
    "try:\n",
    "    file = input('Enter file name: ')\n",
    "    count = 0\n",
    "    fhand = open(file)\n",
    "    for line in fhand:\n",
    "        print(line + '.txt')\n",
    "        count += 1\n",
    "        break"
   ]
  },
  {
   "cell_type": "code",
   "execution_count": null,
   "metadata": {},
   "outputs": [],
   "source": [
    "pwd"
   ]
  },
  {
   "cell_type": "markdown",
   "metadata": {},
   "source": [
    "### E. Using try, except and open"
   ]
  },
  {
   "cell_type": "code",
   "execution_count": null,
   "metadata": {},
   "outputs": [],
   "source": []
  },
  {
   "cell_type": "markdown",
   "metadata": {},
   "source": [
    "### F. Searching through the file"
   ]
  },
  {
   "cell_type": "markdown",
   "metadata": {},
   "source": [
    "a) For example, if we wanted to read a file and only print out lines which started with the prefix “From:\""
   ]
  },
  {
   "cell_type": "code",
   "execution_count": null,
   "metadata": {},
   "outputs": [],
   "source": [
    "fhand = open(\"mbox-short.txt\")\n",
    "count = 0\n",
    "for line in fhand:\n",
    "    if line.startswith('X-Content'):\n",
    "        print(line.rstrip())\n",
    "        count += 1\n",
    "print(count)"
   ]
  },
  {
   "cell_type": "markdown",
   "metadata": {
    "collapsed": true
   },
   "source": [
    "b) Can we have the list of email id?"
   ]
  },
  {
   "cell_type": "code",
   "execution_count": null,
   "metadata": {},
   "outputs": [],
   "source": [
    "fhand = open(\"mbox-short.txt\")\n",
    "x = \":\"\n",
    "for line in fhand:\n",
    "    if line.startswith(\"From:\"):\n",
    "        for i in range(0, len(line)):\n",
    "            if line[i] == x:\n",
    "                result = line[i+1:]\n",
    "                print(result)"
   ]
  },
  {
   "cell_type": "code",
   "execution_count": null,
   "metadata": {},
   "outputs": [],
   "source": [
    "fhand = open(\"mbox-short.txt\")\n",
    "\n",
    "for line in fhand:\n",
    "    if line.startswith('From:'):\n",
    "        line = line.rstrip()\n",
    "        print(line[line.find(\" \")+1:])"
   ]
  },
  {
   "cell_type": "code",
   "execution_count": null,
   "metadata": {},
   "outputs": [],
   "source": [
    "fhand = open(\"mbox-short.txt\")\n",
    "\n",
    "for line in fhand:\n",
    "    if line.startswith('From:'):\n",
    "        line = line.rstrip()\n",
    "        print(line.lstrip('From: '))"
   ]
  },
  {
   "cell_type": "code",
   "execution_count": null,
   "metadata": {},
   "outputs": [],
   "source": [
    "fhand = open(\"mbox-short.txt\")\n",
    "\n",
    "for line in fhand:\n",
    "    if line.startswith('From:'):\n",
    "        print(line.rstrip().lstrip('From: '))\n",
    "        "
   ]
  },
  {
   "cell_type": "markdown",
   "metadata": {},
   "source": [
    "c) Extract lines which contain the string “@uct.ac.za” (i.e., they come from the University of Cape Town in South Africa):"
   ]
  },
  {
   "cell_type": "code",
   "execution_count": null,
   "metadata": {},
   "outputs": [],
   "source": [
    "import os\n",
    "os.chdir(r'/Users/muruganyuvaraaj/Python notebooks')\n",
    "fhand = open('mbox-short.txt')"
   ]
  },
  {
   "cell_type": "code",
   "execution_count": null,
   "metadata": {},
   "outputs": [],
   "source": [
    "fhand = open('mbox-short.txt')\n",
    "for line in fhand:\n",
    "    if line.startswith('From:'):\n",
    "        line = line.find('@uct')"
   ]
  },
  {
   "cell_type": "markdown",
   "metadata": {},
   "source": [
    "d) How many emails were received from University of Cape Town"
   ]
  },
  {
   "cell_type": "code",
   "execution_count": 23,
   "metadata": {},
   "outputs": [
    {
     "name": "stdout",
     "output_type": "stream",
     "text": [
      "stephen.marquard@uct.ac.za\n",
      "louis@media.berkeley.edu\n",
      "zqian@umich.edu\n",
      "jlowe@iupui.edu\n",
      "zqian@umich.edu\n",
      "jlowe@iupui.edu\n",
      "cwen@iupui.edu\n",
      "cwen@iupui.edu\n",
      "gsilver@umich.edu\n",
      "gsilver@umich.edu\n",
      "zqian@umich.edu\n",
      "gsilver@umich.edu\n",
      "wagnermr@iupui.edu\n",
      "zqian@umich.edu\n",
      "antranig@caret.cam.ac.uk\n",
      "gopal.ramasammycook@gmail.com\n",
      "david.horwitz@uct.ac.za\n",
      "david.horwitz@uct.ac.za\n",
      "david.horwitz@uct.ac.za\n",
      "david.horwitz@uct.ac.za\n",
      "stephen.marquard@uct.ac.za\n",
      "louis@media.berkeley.edu\n",
      "louis@media.berkeley.edu\n",
      "ay@media.berkeley.edu\n",
      "cwen@iupui.edu\n",
      "cwen@iupui.edu\n",
      "cwen@iupui.edu\n"
     ]
    }
   ],
   "source": [
    "fhand = open(\"mbox-short.txt\")\n",
    "\n",
    "for line in fhand:\n",
    "    if line.startswith('From:'):\n",
    "        print(line.rstrip().lstrip('From: '))"
   ]
  },
  {
   "cell_type": "code",
   "execution_count": null,
   "metadata": {},
   "outputs": [],
   "source": []
  },
  {
   "cell_type": "code",
   "execution_count": null,
   "metadata": {},
   "outputs": [],
   "source": []
  }
 ],
 "metadata": {
  "kernelspec": {
   "display_name": "Python 3",
   "language": "python",
   "name": "python3"
  },
  "language_info": {
   "codemirror_mode": {
    "name": "ipython",
    "version": 3
   },
   "file_extension": ".py",
   "mimetype": "text/x-python",
   "name": "python",
   "nbconvert_exporter": "python",
   "pygments_lexer": "ipython3",
   "version": "3.7.4"
  }
 },
 "nbformat": 4,
 "nbformat_minor": 2
}
