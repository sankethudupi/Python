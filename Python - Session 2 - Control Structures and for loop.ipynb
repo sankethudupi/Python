{
 "cells": [
  {
   "cell_type": "markdown",
   "metadata": {},
   "source": [
    "### A. Things you already know:\n",
    "\n",
    "* Boolean expression\n",
    "* Logical operators\n",
    "* Logical expressions (if:, else if:, else:)\n",
    "\n",
    "*Note: In Python **else if** is written as **elif** *"
   ]
  },
  {
   "cell_type": "markdown",
   "metadata": {},
   "source": [
    "### B. Introducing elif:"
   ]
  },
  {
   "cell_type": "code",
   "execution_count": null,
   "metadata": {},
   "outputs": [],
   "source": [
    "number = int(input(\"Enter a number: \"))\n",
    "\n",
    "if number > 0:\n",
    "    print(\"Positive\")\n",
    "elif number < 0:\n",
    "    print(\"Negative\")\n",
    "else:\n",
    "    print(\"Zero\")"
   ]
  },
  {
   "cell_type": "markdown",
   "metadata": {},
   "source": [
    "#### Exercise:\n",
    "\n",
    "**Recall the problem:**\n",
    "\n",
    "For a certain academic subject the students are evaluated based on five tests -\n",
    "\n",
    "* Quiz 1 (20 marks - 10% Weight),\n",
    "* Quiz 2 (20 marks - 10% Weight),\n",
    "* Class test (50 marks - 25% Weight),\n",
    "* Assignment (100 marks - 25% weight) and\n",
    "* Project (200 marks - 30% weight).\n",
    "\n",
    "Design a program that will prompt the user for marks for each of the tests and calculate the overall marks (out of 100).\n"
   ]
  },
  {
   "cell_type": "markdown",
   "metadata": {},
   "source": [
    "#### Add an extension to the problem to display grades:\n",
    "\n",
    "Display the grades of students using the following table:\n",
    "\n",
    "    Score\t\tGrade\n",
    "\t>= 60\t\tFirst Class\n",
    "\t>= 40\t\tSecond Class\n",
    "\t< 40\t\tFail\n"
   ]
  },
  {
   "cell_type": "code",
   "execution_count": null,
   "metadata": {},
   "outputs": [],
   "source": [
    "x = int(input('Quiz 1 Marks: '))\n",
    "y = int(input('Quiz 2 Marks: '))\n",
    "z = int(input('Class Test: '))\n",
    "a = int(input('Assignment: '))\n",
    "b = int(input('Project: '))\n",
    "c = float(x*5*0.1)+float(y*5*0.1)+float(z*2*0.25)+float(a*0.25)+float(b*0.5*0.30)\n",
    "print('Overall Mark: ', c)\n",
    "if c<40:\n",
    "    print(c, ' - Fail')\n",
    "elif c >= 40 and c < 60:\n",
    "    print(c, ' - Second Class')\n",
    "elif c >= 60:\n",
    "    print(c, ' - First Class') #done"
   ]
  },
  {
   "cell_type": "markdown",
   "metadata": {},
   "source": [
    "#### Exercise:\n",
    "\n",
    "**Recall the problem:**\n",
    "\n",
    "How about prompting the user for the number of hours and using the input value to compute the total pay?"
   ]
  },
  {
   "cell_type": "markdown",
   "metadata": {},
   "source": [
    "**Include a modification**\n",
    "\n",
    "Write a program to prompt the user for hours and rate per hour to compute the gross pay. The pay computation should be such that the employees should get 1.5 times the hourly rate for hours worked above 40 hours."
   ]
  },
  {
   "cell_type": "code",
   "execution_count": null,
   "metadata": {},
   "outputs": [],
   "source": [
    "x = int(input('Enter number of Hours worked: '))\n",
    "y = int(input('Enter the rate per hour: '))\n",
    "\n",
    "if x <= 40:\n",
    "    z = x*y\n",
    "    print('Gross Pay: ', z)\n",
    "else:\n",
    "    z = x*y +((x-40)*1.5*y)\n",
    "    print('Gross Pay: ', z) #done"
   ]
  },
  {
   "cell_type": "markdown",
   "metadata": {},
   "source": [
    "### C. Exception Handling:"
   ]
  },
  {
   "cell_type": "markdown",
   "metadata": {},
   "source": [
    "**try & except**"
   ]
  },
  {
   "cell_type": "markdown",
   "metadata": {},
   "source": [
    "Rewrite the pay program (refer problem 2) using try and expect so that the program handles non-numeric input gracefully by printing a message and exiting the program. The following shows two executions of the program:\n",
    "\n",
    "\tEnter hours: 20\n",
    "\tEnter rate:  nine\n",
    "\tError, please enter numeric input"
   ]
  },
  {
   "cell_type": "code",
   "execution_count": null,
   "metadata": {},
   "outputs": [],
   "source": [
    "try:\n",
    "    hour = int(input('Enter hour: '))\n",
    "    rate = int(input('Enter rate: '))\n",
    "\n",
    "    if hour <= 40:\n",
    "        pay = hour*rate\n",
    "    else:\n",
    "        pay = 40*rate + (hour-40)*1.5*rate\n",
    "\n",
    "    print(pay)\n",
    "    \n",
    "except:\n",
    "    print('Error, please enter numeric input')\n",
    "    "
   ]
  },
  {
   "cell_type": "code",
   "execution_count": null,
   "metadata": {},
   "outputs": [],
   "source": []
  },
  {
   "cell_type": "markdown",
   "metadata": {},
   "source": [
    "### D. For Loop"
   ]
  },
  {
   "cell_type": "markdown",
   "metadata": {},
   "source": [
    "**Consider the following list of number**\n",
    "    \n",
    "    L = [12,18,11,15,9,7,16]"
   ]
  },
  {
   "cell_type": "code",
   "execution_count": 1,
   "metadata": {},
   "outputs": [],
   "source": [
    "L = [12,18,11,15,9,7,16]  #List"
   ]
  },
  {
   "cell_type": "code",
   "execution_count": 2,
   "metadata": {},
   "outputs": [
    {
     "data": {
      "text/plain": [
       "18"
      ]
     },
     "execution_count": 2,
     "metadata": {},
     "output_type": "execute_result"
    }
   ],
   "source": [
    "L[1] "
   ]
  },
  {
   "cell_type": "code",
   "execution_count": 3,
   "metadata": {},
   "outputs": [
    {
     "name": "stdout",
     "output_type": "stream",
     "text": [
      "12\n",
      "18\n",
      "11\n",
      "15\n",
      "9\n",
      "7\n",
      "16\n"
     ]
    }
   ],
   "source": [
    "print(L[0])\n",
    "print(L[1])\n",
    "print(L[2])\n",
    "print(L[3])\n",
    "print(L[4])\n",
    "print(L[5])\n",
    "print(L[6])"
   ]
  },
  {
   "cell_type": "code",
   "execution_count": 9,
   "metadata": {},
   "outputs": [
    {
     "name": "stdout",
     "output_type": "stream",
     "text": [
      "12 8 11 5 9 7 16 "
     ]
    }
   ],
   "source": [
    "for i in range(0,7):\n",
    "    print(L[i], end=\" \")"
   ]
  },
  {
   "cell_type": "code",
   "execution_count": 12,
   "metadata": {},
   "outputs": [
    {
     "name": "stdout",
     "output_type": "stream",
     "text": [
      "1   2   3   4   5   6   "
     ]
    }
   ],
   "source": [
    "L = [1,2,3,4,5,6,7,8,9,10]\n",
    "for i in range(0,6):\n",
    "    print(L[i], end=\"   \")"
   ]
  },
  {
   "cell_type": "code",
   "execution_count": 6,
   "metadata": {},
   "outputs": [
    {
     "name": "stdout",
     "output_type": "stream",
     "text": [
      "12\n",
      "18\n",
      "11\n",
      "15\n"
     ]
    }
   ],
   "source": [
    "L = [12,18,11,15,9,7,16]\n",
    "for i in range(0,4):\n",
    "    print(L[i])"
   ]
  },
  {
   "cell_type": "code",
   "execution_count": 7,
   "metadata": {
    "scrolled": true
   },
   "outputs": [
    {
     "name": "stdout",
     "output_type": "stream",
     "text": [
      "Enter number sequence: 5\n",
      "12\n",
      "8\n",
      "11\n",
      "5\n",
      "9\n"
     ]
    }
   ],
   "source": [
    "L = [12,8,11,5,9,7,16]\n",
    "p = int(input('Enter number sequence: '))\n",
    "for i in range(0,p):\n",
    "    print(L[i])"
   ]
  },
  {
   "cell_type": "markdown",
   "metadata": {},
   "source": [
    "# for i in L:\n",
    "    print(i)"
   ]
  },
  {
   "cell_type": "code",
   "execution_count": 13,
   "metadata": {},
   "outputs": [
    {
     "name": "stdout",
     "output_type": "stream",
     "text": [
      "Enter: 3\n",
      "3\n"
     ]
    }
   ],
   "source": [
    "p=(input('Enter: '))\n",
    "for i in range(0,len(p)):\n",
    "    x = p[i]\n",
    "    print(x)"
   ]
  },
  {
   "cell_type": "code",
   "execution_count": 14,
   "metadata": {},
   "outputs": [
    {
     "name": "stdout",
     "output_type": "stream",
     "text": [
      "8\n",
      "['8']\n"
     ]
    }
   ],
   "source": [
    "p = input()\n",
    "x = [y for y in p]\n",
    "print(x)"
   ]
  },
  {
   "cell_type": "code",
   "execution_count": 17,
   "metadata": {},
   "outputs": [
    {
     "name": "stdout",
     "output_type": "stream",
     "text": [
      "4 2 4 10 8 5 "
     ]
    }
   ],
   "source": [
    "L = [12,11,15,9,7,16]\n",
    "P = [1,2,3,4,5,6,7,8,9,10,1,2,4,5,6,4,5,6,3]\n",
    "for i in L:\n",
    "    print(P[i], end=\" \")\n",
    "    "
   ]
  },
  {
   "cell_type": "markdown",
   "metadata": {},
   "source": [
    "**1. Calculating the sum of numbers in a list.**"
   ]
  },
  {
   "cell_type": "code",
   "execution_count": 18,
   "metadata": {},
   "outputs": [
    {
     "name": "stdout",
     "output_type": "stream",
     "text": [
      "112\n"
     ]
    }
   ],
   "source": [
    "total = 0 \n",
    "L = [12,11,15,9,7,16,42]\n",
    "for i in L:\n",
    "    total = total + i\n",
    "print(total)"
   ]
  },
  {
   "cell_type": "markdown",
   "metadata": {},
   "source": [
    "**2. Counting the number of elements present in a list.**"
   ]
  },
  {
   "cell_type": "code",
   "execution_count": 19,
   "metadata": {},
   "outputs": [
    {
     "name": "stdout",
     "output_type": "stream",
     "text": [
      "10\n"
     ]
    }
   ],
   "source": [
    "p=[5,3,8,4,5,67,7,8,8,8]\n",
    "c=0\n",
    "for n in p:\n",
    "    c+=1 # c=c+1 == c+=1\n",
    "print(c)"
   ]
  },
  {
   "cell_type": "markdown",
   "metadata": {},
   "source": [
    "**3. Finding the largest number in a sequence.**"
   ]
  },
  {
   "cell_type": "code",
   "execution_count": 22,
   "metadata": {},
   "outputs": [
    {
     "name": "stdout",
     "output_type": "stream",
     "text": [
      "229\n"
     ]
    }
   ],
   "source": [
    "l = [1,2,3,104,5,6,57,8,229,7]\n",
    "max = l[0]\n",
    "for i in l:\n",
    "    if i > max:\n",
    "        max = i    \n",
    "print(max)"
   ]
  },
  {
   "cell_type": "markdown",
   "metadata": {},
   "source": [
    "**4. Finding the smallest number in a sequence.**"
   ]
  },
  {
   "cell_type": "code",
   "execution_count": 23,
   "metadata": {},
   "outputs": [
    {
     "name": "stdout",
     "output_type": "stream",
     "text": [
      "5\n"
     ]
    }
   ],
   "source": [
    "l = [104,5,6,57,8,229]\n",
    "min = l[0]\n",
    "for i in l:\n",
    "    if i < min:\n",
    "        min = i\n",
    "print(min)"
   ]
  },
  {
   "cell_type": "markdown",
   "metadata": {},
   "source": [
    "### E. Introducing range()"
   ]
  },
  {
   "cell_type": "code",
   "execution_count": null,
   "metadata": {},
   "outputs": [],
   "source": [
    "range(0,7) #Integers ranging from 0 to 6 (Shift + tab for help)"
   ]
  },
  {
   "cell_type": "code",
   "execution_count": 30,
   "metadata": {},
   "outputs": [
    {
     "data": {
      "text/plain": [
       "6"
      ]
     },
     "execution_count": 30,
     "metadata": {},
     "output_type": "execute_result"
    }
   ],
   "source": [
    "len(range(0,10,2)) # 0,2,4,6"
   ]
  },
  {
   "cell_type": "code",
   "execution_count": 31,
   "metadata": {},
   "outputs": [
    {
     "name": "stdout",
     "output_type": "stream",
     "text": [
      "12\n",
      "11\n",
      "9\n",
      "16\n"
     ]
    }
   ],
   "source": [
    "L = [12,18,11,15,9,7,16]\n",
    "for i in range(0,8,2) :#Integers ranging from 0 to 8 at an interval of 2\n",
    "    x = L[i]\n",
    "    print(x)"
   ]
  },
  {
   "cell_type": "code",
   "execution_count": 36,
   "metadata": {},
   "outputs": [
    {
     "name": "stdout",
     "output_type": "stream",
     "text": [
      "0 3 6 "
     ]
    }
   ],
   "source": [
    "x=range(0,7,3)\n",
    "for n in x:\n",
    "    print(n, end=\" \")"
   ]
  },
  {
   "cell_type": "code",
   "execution_count": null,
   "metadata": {},
   "outputs": [],
   "source": [
    "for i in range(0,7):\n",
    "    print(L[i])"
   ]
  },
  {
   "cell_type": "code",
   "execution_count": null,
   "metadata": {},
   "outputs": [],
   "source": [
    "L = [12,18,11,15,9,7,16]\n",
    "for i in [0,3,4]:\n",
    "    print(L[i])"
   ]
  },
  {
   "cell_type": "markdown",
   "metadata": {},
   "source": [
    "**1. Calculate the sum of first n natural numbers**\n",
    "\n",
    "* Natural Numbers starts from 1.\n",
    "* Whole Numbers starts from 0."
   ]
  },
  {
   "cell_type": "code",
   "execution_count": 38,
   "metadata": {},
   "outputs": [
    {
     "name": "stdout",
     "output_type": "stream",
     "text": [
      "Enter the first n natural number: 10\n",
      "55\n"
     ]
    }
   ],
   "source": [
    "total = 0\n",
    "n = int(input('Enter the first n natural number: '))\n",
    "\n",
    "for i in range(1,n+1):\n",
    "    total += i\n",
    "    \n",
    "print(total)"
   ]
  },
  {
   "cell_type": "code",
   "execution_count": 39,
   "metadata": {},
   "outputs": [
    {
     "name": "stdout",
     "output_type": "stream",
     "text": [
      "70\n",
      "60\n",
      "50\n",
      "40\n",
      "30\n"
     ]
    }
   ],
   "source": [
    "for i in range(70,20,-10):\n",
    "    print(i)"
   ]
  },
  {
   "cell_type": "markdown",
   "metadata": {},
   "source": [
    "**2. Calculate the mean of the first n positive integers.**"
   ]
  },
  {
   "cell_type": "code",
   "execution_count": 40,
   "metadata": {},
   "outputs": [
    {
     "name": "stdout",
     "output_type": "stream",
     "text": [
      "Enter first n positive integers: 10\n",
      "5.5\n"
     ]
    }
   ],
   "source": [
    "n = int(input('Enter first n positive integers: '))\n",
    "count = 0\n",
    "sum = 0\n",
    "for i in range(0,n):\n",
    "    count += 1\n",
    "    sum += count\n",
    "mean = sum/count\n",
    "print(mean)    "
   ]
  },
  {
   "cell_type": "code",
   "execution_count": 5,
   "metadata": {},
   "outputs": [
    {
     "name": "stdout",
     "output_type": "stream",
     "text": [
      "Enter first n positive integers: 6\n",
      "3.5\n"
     ]
    }
   ],
   "source": [
    "def calculate():\n",
    "    n = int(input('Enter first n positive integers: '))\n",
    "    count = 0\n",
    "    sum = 0\n",
    "    for i in range(0,n):\n",
    "        count += 1\n",
    "        sum += count\n",
    "    mean = sum/count\n",
    "    return(mean)\n",
    "\n",
    "print(calculate())"
   ]
  },
  {
   "cell_type": "markdown",
   "metadata": {},
   "source": [
    "**3. Calculate the standard deviation of the first n positive integers**"
   ]
  },
  {
   "cell_type": "code",
   "execution_count": 6,
   "metadata": {},
   "outputs": [
    {
     "name": "stdout",
     "output_type": "stream",
     "text": [
      "Enter first n positive integers: 6\n",
      "Count - 6\n",
      "Sum - 21\n",
      "Mean - 3.5\n",
      "Variance - 2.9166666666666665\n",
      "Standar Deviation - 1.707825127659933\n"
     ]
    }
   ],
   "source": [
    "n = int(input('Enter first n positive integers: '))\n",
    "count = 0\n",
    "sum = 0\n",
    "variance1 = 0\n",
    "for i in range(0,n):\n",
    "    count += 1\n",
    "    sum += count\n",
    "print('Count -', count)\n",
    "print('Sum -', sum)\n",
    "mean = sum/count\n",
    "print('Mean -', mean)\n",
    "for j in range(n+1,1,-1):\n",
    "    j -= 1\n",
    "    variance = (float(j-mean)**2)\n",
    "    variance1 += variance\n",
    "var1 = float(variance1/count)\n",
    "print('Variance -', var1)\n",
    "sd = (var1)**0.5\n",
    "print('Standar Deviation -', sd)"
   ]
  },
  {
   "cell_type": "code",
   "execution_count": null,
   "metadata": {},
   "outputs": [],
   "source": [
    "L = [1,2,3,4,5,6,7,8,9,10]\n",
    "p = int(input('Enter a number less 10 to find the sequence: '))\n",
    "for i in range(0,p):\n",
    "    x = L[i]\n",
    "    print(x)"
   ]
  },
  {
   "cell_type": "code",
   "execution_count": null,
   "metadata": {},
   "outputs": [],
   "source": []
  }
 ],
 "metadata": {
  "kernelspec": {
   "display_name": "Python 3",
   "language": "python",
   "name": "python3"
  },
  "language_info": {
   "codemirror_mode": {
    "name": "ipython",
    "version": 3
   },
   "file_extension": ".py",
   "mimetype": "text/x-python",
   "name": "python",
   "nbconvert_exporter": "python",
   "pygments_lexer": "ipython3",
   "version": "3.7.4"
  }
 },
 "nbformat": 4,
 "nbformat_minor": 2
}
